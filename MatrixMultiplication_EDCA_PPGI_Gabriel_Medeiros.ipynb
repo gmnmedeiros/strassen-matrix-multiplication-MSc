{
  "nbformat": 4,
  "nbformat_minor": 0,
  "metadata": {
    "colab": {
      "name": "MatrixMultiplication-EDCA-PPGI-Gabriel-Medeiros.ipynb",
      "provenance": [],
      "authorship_tag": "ABX9TyP8PaxaQCd6+Rika0s9FaQt",
      "include_colab_link": true
    },
    "kernelspec": {
      "name": "python3",
      "display_name": "Python 3"
    },
    "language_info": {
      "name": "python"
    }
  },
  "cells": [
    {
      "cell_type": "markdown",
      "metadata": {
        "id": "view-in-github",
        "colab_type": "text"
      },
      "source": [
        "<a href=\"https://colab.research.google.com/github/gmnmedeiros/strassen-matrix-multiplication-MSc/blob/main/MatrixMultiplication_EDCA_PPGI_Gabriel_Medeiros.ipynb\" target=\"_parent\"><img src=\"https://colab.research.google.com/assets/colab-badge.svg\" alt=\"Open In Colab\"/></a>"
      ]
    },
    {
      "cell_type": "markdown",
      "metadata": {
        "id": "Rl1KnXLOhlJw"
      },
      "source": [
        "#### UFPB - PPGI\n",
        "#### Mestrado em Informática\n",
        "#### Estrutura de Dados e Análise de Algoritmos\n",
        "#### Prof Dr Teobaldo Bulhões\n",
        "#### Aluno Gabriel Medeiros do Nascimento\n",
        "\n",
        "Para se localizar facilmente no notebook, usar a Table of Contents no menu à esquerda."
      ]
    },
    {
      "cell_type": "markdown",
      "metadata": {
        "id": "BXNXzV0_h0t4"
      },
      "source": [
        "___________________________________________________________\n",
        "\n",
        "### Projeto de implementação de multiplicação de algoritmos\n",
        "\n",
        "Abaixo seguem os imports necessários."
      ]
    },
    {
      "cell_type": "code",
      "metadata": {
        "id": "1wnbMWxdinY4"
      },
      "source": [
        "# Imports\n",
        "\n",
        "import time\n",
        "\n",
        "import numpy as np\n",
        "import matplotlib.pyplot as plt\n",
        "import pandas as pd"
      ],
      "execution_count": 1,
      "outputs": []
    },
    {
      "cell_type": "markdown",
      "metadata": {
        "id": "k05JQa__iGKV"
      },
      "source": [
        "___________________________________________________________\n",
        "#### Arquivo de entrada:\n",
        "Coloquei na função o nome \"input.txt\" para o arquivo de entrada. A função destrincha os parâmetros da mesma forma que foi exibido no arquivo da atividade\n",
        "\n",
        "Na barra esquerda tem a opção de inserir um arquivo.\n",
        "\n",
        "OBS.: Caso queira mudar o nome do arquivo de entrada, alterar linha indicada.\n",
        "\n",
        "OBS.: Ao fim do notebook tem a possibilidade de testar sem usar arquivo de entrada, mas usando parâmetros manuais."
      ]
    },
    {
      "cell_type": "code",
      "metadata": {
        "id": "gCsP4EZhhSJz"
      },
      "source": [
        "def read_input(input):\n",
        "  # Se quiser alterar o arquivo de entrada, usar a última seção do notebook\n",
        "  X = open(\"input.txt\", \"r\")\n",
        "  kmax = int(X.readline())\n",
        "  r = int(X.readline())\n",
        "  amin_max = str(X.readline())\n",
        "  return kmax, r, amin_max"
      ],
      "execution_count": 2,
      "outputs": []
    },
    {
      "cell_type": "markdown",
      "metadata": {
        "id": "K4CbQ3bqlTHW"
      },
      "source": [
        "Mais adiante, na função de teste de caso, vou indexar o return dessa função para acessar cada um dos parâmetros."
      ]
    },
    {
      "cell_type": "markdown",
      "metadata": {
        "id": "6GPnbiq0ld3G"
      },
      "source": [
        "___________________________________________________________\n",
        "#### Algoritmo NAÏVE\n",
        "\n",
        "Multiplicação simples das colunas e fileiras."
      ]
    },
    {
      "cell_type": "code",
      "metadata": {
        "id": "I0AlMT8SlbIF"
      },
      "source": [
        "def naive_matrix(first_matrix,second_matrix):\n",
        "    n = len(first_matrix)\n",
        "    result = np.zeros((n,n))\n",
        "    for i in range(n):\n",
        "        for j in range(n):\n",
        "            for k in range(n):\n",
        "                result[i,j] += first_matrix[i,k] *second_matrix[k,j]\n",
        "    return result"
      ],
      "execution_count": 3,
      "outputs": []
    },
    {
      "cell_type": "markdown",
      "metadata": {
        "id": "bqCO-SwOl9f_"
      },
      "source": [
        "___________________________________________________________\n",
        "#### **Algoritmo STRASSEN**\n",
        "\n",
        "A seguinte solução é uma forma de otimização do algoritmo Strassen para Python onde foca-se em diminuir o número de variáveis.\n",
        "\n",
        "Por exemplo: Ao invés de se criar uma variável `S1` para guardar `b12 - b22`, com o objetivo de ser acessada na terceira fase do algoritmo `P1 = strassen(a11,S1)`, ***esta solução pula direto para a fase P e cria chamadas recursivas acessando diretamente a primeira fase do algoritmo -a saber, a divisão das matrizes de input em submatrizes n/2.***\n",
        "\n",
        "Uma das fontes de pesquisa para essa solução foi o repositório GitHub abaixo:\n",
        "\n",
        "https://github.com/jaeho3690/Matrix_multiplication_python/blob/master/Algorithms_hw1_Report.pdf\n"
      ]
    },
    {
      "cell_type": "code",
      "metadata": {
        "id": "di7pWawWmBYY"
      },
      "source": [
        "def strassen(array_first,array_second):\n",
        "    n = len(array_first)\n",
        "    if n <= 4:\n",
        "        return naive_matrix(array_first,array_second)\n",
        "    else:\n",
        "        a11 = array_first[:int(len(array_first)/2),:int(len(array_first)/2)]\n",
        "        a12 = array_first[:int(len(array_first)/2),int(len(array_first)/2):]\n",
        "        a21 = array_first[int(len(array_first)/2):,:int(len(array_first)/2)]\n",
        "        a22 = array_first[int(len(array_first)/2):,int(len(array_first)/2):]\n",
        "\n",
        "        b11 = array_second[:int(len(array_second)/2),:int(len(array_second)/2)]\n",
        "        b12 = array_second[:int(len(array_second)/2),int(len(array_second)/2):]\n",
        "        b21 = array_second[int(len(array_second)/2):,:int(len(array_second)/2)]\n",
        "        b22 = array_second[int(len(array_second)/2):,int(len(array_second)/2):]\n",
        "        \n",
        "        P1 = strassen(a11,b12 - b22)\n",
        "        P2 = strassen(a11 + a12,b22)\n",
        "        P3 = strassen(a21 + a22,b11)\n",
        "        P4 = strassen(a22,b21 - b11)\n",
        "        P5 = strassen(a11 + a22,b11 + b22)\n",
        "        P6 = strassen(a12 - a22,b21 + b22)\n",
        "        P7 = strassen(a11 - a21,b11 + b12)\n",
        "\n",
        "        result = np.zeros((n,n))\n",
        "        result[:int(len(result)/2),:int(len(result)/2)] = P5 + P4 - P2 + P6\n",
        "        result[:int(len(result)/2),int(len(result)/2):] = P1 + P2\n",
        "        result[int(len(result)/2):,:int(len(result)/2)] = P3 + P4\n",
        "        result[int(len(result)/2):,int(len(result)/2):] = P5 + P1 - P3 -P7\n",
        "        return result"
      ],
      "execution_count": 4,
      "outputs": []
    },
    {
      "cell_type": "markdown",
      "metadata": {
        "id": "j6zCsiqIpZiu"
      },
      "source": [
        "___________________________________________________________\n",
        "#### Função de criação de testes para os algoritmos\n",
        "\n",
        "Em primeiro lugar eu criei as variáveis a partir dos parâmetros do arquivo de entrada.\n",
        "\n",
        "A lógica seguida foi: criar R pares de matrizes de tamanho entre 2**5 (valor mínimo) e 2**kmax que, para o arquivo usado, foi 9.\n",
        "\n",
        "A cada iteração, o algoritmo Naïve era rodado, e após isso, o Strassen. \n",
        "\n",
        "Os tempos são medidos e guardados em variáveis que serão salvas no dataframe log.\n",
        "\n",
        "Para a etapa de plotagem dos gráficos, o dataframe log será usado."
      ]
    },
    {
      "cell_type": "code",
      "metadata": {
        "id": "NrY3YJmVphac"
      },
      "source": [
        "def test_algorithms():\n",
        "    # Tamanho KMax deve ser potência de 2 || Matrizes terão tamanho de 2**5 a 2**kmaxx\n",
        "    array_size = [2 ** i for i in range(5,read_input(input)[0])] #read_input(input)[0] = kmax\n",
        "\n",
        "\n",
        "    # Log é o dataframe com os dados gerais dos testes.\n",
        "    # A linha abaixo inicializa o df vazio\n",
        "    log = pd.DataFrame(index=[], columns =[])\n",
        "    \n",
        "    amin = int(read_input(input)[2][:3]) \n",
        "    amax = int(read_input(input)[2][3:])\n",
        "    number_matrices = read_input(input)[1]\n",
        "    \n",
        "    print(array_size)\n",
        "\n",
        "    #Iniciando matrizes no número indicado no input com tamanho de 2**5 a 2**kmax\n",
        "    for matrix in range(1,number_matrices):\n",
        "      for size in array_size:\n",
        "        array_1 = np.random.randint(low=amin,high=amax,size=(size,size),dtype=int)\n",
        "        array_2 = np.random.randint(low=amin,high=amax,size=(size, size),dtype=int)\n",
        "\n",
        "    #Contagem de tempo\n",
        "\n",
        "    #Contagem de Naive Matrix\n",
        "        print(\"Testando algoritmo Naive tamanho {}\".format(size))\n",
        "        start_time = 0\n",
        "        start_time = time.time()\n",
        "        result = naive_matrix(array_1,array_2)\n",
        "        naive_duration = time.time()-start_time\n",
        "    \n",
        "\n",
        "    # Contagem do tempo de Strassen\n",
        "        print(\"Testando algoritmo Strassen tamanho {}\".format(size))\n",
        "        start_time = 0\n",
        "        start_time = time.time()\n",
        "        result = strassen(array_1,array_2)\n",
        "        strassen_duration = time.time()-start_time\n",
        "    \n",
        "\n",
        "        tmp = pd.Series([\n",
        "            size,\n",
        "            naive_duration,\n",
        "            strassen_duration,           \n",
        "        ], index=['Array_size','Naive_time','Strassen_time'])\n",
        "        log = log.append(tmp,ignore_index=True)\n",
        "        log.to_csv('new_time_complexity_python.csv',index=False)\n",
        "    return log "
      ],
      "execution_count": 18,
      "outputs": []
    },
    {
      "cell_type": "markdown",
      "metadata": {
        "id": "W4BxYbwXVEoC"
      },
      "source": [
        "_______________________________________________________\n",
        "\n",
        "### RODANDO O TESTE DOS ALGORITMOS\n",
        "\n",
        "O output é um DataFrame com os dados de tempo preenchidos. Esse df é exportado para o arquivo `'new_time_complexity_python.csv'`\n",
        "\n",
        "Com os parâmetros `kmax = 5, r = 50 e amin, amax = 150, 250` esse teste durou 19 minutos. \n",
        "\n",
        "Os resultados seguem abaixo, usando os parâmetros acima.\n"
      ]
    },
    {
      "cell_type": "code",
      "metadata": {
        "id": "DBLMk4HkqA8y",
        "colab": {
          "base_uri": "https://localhost:8080/",
          "height": 436
        },
        "outputId": "447fc5ab-c898-4b2a-9d57-2e79c6dc1296"
      },
      "source": [
        "test_algorithms()"
      ],
      "execution_count": 19,
      "outputs": [
        {
          "output_type": "stream",
          "text": [
            "[32, 64, 128, 256]\n"
          ],
          "name": "stdout"
        },
        {
          "output_type": "execute_result",
          "data": {
            "text/html": [
              "<div>\n",
              "<style scoped>\n",
              "    .dataframe tbody tr th:only-of-type {\n",
              "        vertical-align: middle;\n",
              "    }\n",
              "\n",
              "    .dataframe tbody tr th {\n",
              "        vertical-align: top;\n",
              "    }\n",
              "\n",
              "    .dataframe thead th {\n",
              "        text-align: right;\n",
              "    }\n",
              "</style>\n",
              "<table border=\"1\" class=\"dataframe\">\n",
              "  <thead>\n",
              "    <tr style=\"text-align: right;\">\n",
              "      <th></th>\n",
              "      <th>Array_size</th>\n",
              "      <th>Naive_time</th>\n",
              "      <th>Strassen_time</th>\n",
              "    </tr>\n",
              "  </thead>\n",
              "  <tbody>\n",
              "    <tr>\n",
              "      <th>0</th>\n",
              "      <td>32.0</td>\n",
              "      <td>0.034839</td>\n",
              "      <td>0.024701</td>\n",
              "    </tr>\n",
              "    <tr>\n",
              "      <th>1</th>\n",
              "      <td>64.0</td>\n",
              "      <td>0.238385</td>\n",
              "      <td>0.176538</td>\n",
              "    </tr>\n",
              "    <tr>\n",
              "      <th>2</th>\n",
              "      <td>128.0</td>\n",
              "      <td>1.989026</td>\n",
              "      <td>1.229984</td>\n",
              "    </tr>\n",
              "    <tr>\n",
              "      <th>3</th>\n",
              "      <td>256.0</td>\n",
              "      <td>15.596120</td>\n",
              "      <td>8.596629</td>\n",
              "    </tr>\n",
              "    <tr>\n",
              "      <th>4</th>\n",
              "      <td>32.0</td>\n",
              "      <td>0.029470</td>\n",
              "      <td>0.036399</td>\n",
              "    </tr>\n",
              "    <tr>\n",
              "      <th>...</th>\n",
              "      <td>...</td>\n",
              "      <td>...</td>\n",
              "      <td>...</td>\n",
              "    </tr>\n",
              "    <tr>\n",
              "      <th>191</th>\n",
              "      <td>256.0</td>\n",
              "      <td>15.682903</td>\n",
              "      <td>8.829943</td>\n",
              "    </tr>\n",
              "    <tr>\n",
              "      <th>192</th>\n",
              "      <td>32.0</td>\n",
              "      <td>0.031260</td>\n",
              "      <td>0.024082</td>\n",
              "    </tr>\n",
              "    <tr>\n",
              "      <th>193</th>\n",
              "      <td>64.0</td>\n",
              "      <td>0.247449</td>\n",
              "      <td>0.189846</td>\n",
              "    </tr>\n",
              "    <tr>\n",
              "      <th>194</th>\n",
              "      <td>128.0</td>\n",
              "      <td>1.910902</td>\n",
              "      <td>1.229284</td>\n",
              "    </tr>\n",
              "    <tr>\n",
              "      <th>195</th>\n",
              "      <td>256.0</td>\n",
              "      <td>15.623108</td>\n",
              "      <td>8.620358</td>\n",
              "    </tr>\n",
              "  </tbody>\n",
              "</table>\n",
              "<p>196 rows × 3 columns</p>\n",
              "</div>"
            ],
            "text/plain": [
              "     Array_size  Naive_time  Strassen_time\n",
              "0          32.0    0.034839       0.024701\n",
              "1          64.0    0.238385       0.176538\n",
              "2         128.0    1.989026       1.229984\n",
              "3         256.0   15.596120       8.596629\n",
              "4          32.0    0.029470       0.036399\n",
              "..          ...         ...            ...\n",
              "191       256.0   15.682903       8.829943\n",
              "192        32.0    0.031260       0.024082\n",
              "193        64.0    0.247449       0.189846\n",
              "194       128.0    1.910902       1.229284\n",
              "195       256.0   15.623108       8.620358\n",
              "\n",
              "[196 rows x 3 columns]"
            ]
          },
          "metadata": {
            "tags": []
          },
          "execution_count": 19
        }
      ]
    },
    {
      "cell_type": "markdown",
      "metadata": {
        "id": "kH_sqDMPVpWi"
      },
      "source": [
        "_______________________________________________________\n",
        "### Plotar os gráficos\n",
        "\n",
        "Para plotar os gráficos eu criei o dataframe `report` e fiz um processamento nele. Eu ordenei as observações com base no `Array_size` e depois `resetei o index`.\n",
        "\n",
        "Após isso, fiz o plot do gráfico e o designei à variável `gr`"
      ]
    },
    {
      "cell_type": "code",
      "metadata": {
        "colab": {
          "base_uri": "https://localhost:8080/",
          "height": 297
        },
        "id": "1NsyVsWSPK82",
        "outputId": "2323ab89-2144-4955-e0a0-548d552894eb"
      },
      "source": [
        "report = pd.read_csv(\"new_time_complexity_python.csv\")\n",
        "\n",
        "report.describe()"
      ],
      "execution_count": 35,
      "outputs": [
        {
          "output_type": "execute_result",
          "data": {
            "text/html": [
              "<div>\n",
              "<style scoped>\n",
              "    .dataframe tbody tr th:only-of-type {\n",
              "        vertical-align: middle;\n",
              "    }\n",
              "\n",
              "    .dataframe tbody tr th {\n",
              "        vertical-align: top;\n",
              "    }\n",
              "\n",
              "    .dataframe thead th {\n",
              "        text-align: right;\n",
              "    }\n",
              "</style>\n",
              "<table border=\"1\" class=\"dataframe\">\n",
              "  <thead>\n",
              "    <tr style=\"text-align: right;\">\n",
              "      <th></th>\n",
              "      <th>Array_size</th>\n",
              "      <th>Naive_time</th>\n",
              "      <th>Strassen_time</th>\n",
              "    </tr>\n",
              "  </thead>\n",
              "  <tbody>\n",
              "    <tr>\n",
              "      <th>count</th>\n",
              "      <td>196.000000</td>\n",
              "      <td>196.000000</td>\n",
              "      <td>196.000000</td>\n",
              "    </tr>\n",
              "    <tr>\n",
              "      <th>mean</th>\n",
              "      <td>120.000000</td>\n",
              "      <td>4.458813</td>\n",
              "      <td>2.523001</td>\n",
              "    </tr>\n",
              "    <tr>\n",
              "      <th>std</th>\n",
              "      <td>86.010137</td>\n",
              "      <td>6.511529</td>\n",
              "      <td>3.581721</td>\n",
              "    </tr>\n",
              "    <tr>\n",
              "      <th>min</th>\n",
              "      <td>32.000000</td>\n",
              "      <td>0.028439</td>\n",
              "      <td>0.023552</td>\n",
              "    </tr>\n",
              "    <tr>\n",
              "      <th>25%</th>\n",
              "      <td>56.000000</td>\n",
              "      <td>0.178235</td>\n",
              "      <td>0.136474</td>\n",
              "    </tr>\n",
              "    <tr>\n",
              "      <th>50%</th>\n",
              "      <td>96.000000</td>\n",
              "      <td>1.046321</td>\n",
              "      <td>0.687424</td>\n",
              "    </tr>\n",
              "    <tr>\n",
              "      <th>75%</th>\n",
              "      <td>160.000000</td>\n",
              "      <td>5.347503</td>\n",
              "      <td>3.084045</td>\n",
              "    </tr>\n",
              "    <tr>\n",
              "      <th>max</th>\n",
              "      <td>256.000000</td>\n",
              "      <td>15.806501</td>\n",
              "      <td>8.833875</td>\n",
              "    </tr>\n",
              "  </tbody>\n",
              "</table>\n",
              "</div>"
            ],
            "text/plain": [
              "       Array_size  Naive_time  Strassen_time\n",
              "count  196.000000  196.000000     196.000000\n",
              "mean   120.000000    4.458813       2.523001\n",
              "std     86.010137    6.511529       3.581721\n",
              "min     32.000000    0.028439       0.023552\n",
              "25%     56.000000    0.178235       0.136474\n",
              "50%     96.000000    1.046321       0.687424\n",
              "75%    160.000000    5.347503       3.084045\n",
              "max    256.000000   15.806501       8.833875"
            ]
          },
          "metadata": {
            "tags": []
          },
          "execution_count": 35
        }
      ]
    },
    {
      "cell_type": "code",
      "metadata": {
        "id": "b7HGmRFLZkdq"
      },
      "source": [
        "report_sort = report.sort_values(by=['Array_size'])\n",
        "report_sort.reset_index(inplace=True, drop=True)"
      ],
      "execution_count": null,
      "outputs": []
    },
    {
      "cell_type": "code",
      "metadata": {
        "colab": {
          "base_uri": "https://localhost:8080/",
          "height": 632
        },
        "id": "dKf02HRBdyZ4",
        "outputId": "9af2b48e-8c8e-4675-d874-8f7ac66150c5"
      },
      "source": [
        "gr = report_sort.plot(x='Array_size',title='Time Complexity Comparison',figsize=(10,10),fontsize=15)\n",
        "gr.set_xlabel(\"Array Size\",fontsize=15)\n",
        "gr.set_ylabel(\"Time Duration\",fontsize= 15)\n",
        "gr.legend(fontsize=15)\n",
        "plt.savefig('time_complexity.png',dpi=300)"
      ],
      "execution_count": 60,
      "outputs": [
        {
          "output_type": "display_data",
          "data": {
            "image/png": "[encoded data removed]",
            "text/plain": [
              "<Figure size 720x720 with 1 Axes>"
            ]
          },
          "metadata": {
            "tags": [],
            "needs_background": "light"
          }
        }
      ]
    },
    {
      "cell_type": "markdown",
      "metadata": {
        "id": "9gpFMt6Ajtm8"
      },
      "source": [
        "#### Conclusão\n",
        "\n",
        "O algoritmo Strassen performa melhor que o algoritmo Naïve, conforme o gráfico acima explana."
      ]
    },
    {
      "cell_type": "markdown",
      "metadata": {
        "id": "1M_y40xOg7uK"
      },
      "source": [
        "_____________________________________________________________\n",
        "### Para teste sem arquivo de entrada\n",
        "\n",
        "Para testar o algoritmo usando parâmetros digitados, e não um arquivo de entrada, esta seção:\n",
        "\n",
        "A função de criar um teste estará replicada abaixo, mas os parâmetros podem ser alterados na linha de chamada da função."
      ]
    },
    {
      "cell_type": "code",
      "metadata": {
        "id": "u9P0J4ZXhT5H"
      },
      "source": [
        "def test_manual(k_max, number_matrices, amin, amax):\n",
        "    # Tamanho KMax deve ser potência de 2 || Matrizes terão tamanho de 2**5 a 2**kmaxx\n",
        "    array_size = [2 ** i for i in range(5,k_max)] #read_input(input)[0] = kmax\n",
        "\n",
        "\n",
        "    # Log é o dataframe com os dados gerais dos testes.\n",
        "    # A linha abaixo inicializa o df vazio\n",
        "    logManual = pd.DataFrame(index=[], columns =[])\n",
        "    \n",
        "    #amin = int(read_input(input)[2][:3]) \n",
        "    #amax = int(read_input(input)[2][3:])\n",
        "    #number_matrices = read_input(input)[1]\n",
        "    \n",
        "    print(array_size)\n",
        "\n",
        "    #Iniciando matrizes no número indicado no input com tamanho de 2**5 a 2**kmax\n",
        "    for matrix in range(1,number_matrices):\n",
        "      for size in array_size:\n",
        "        array_1 = np.random.randint(low=amin,high=amax,size=(size,size),dtype=int)\n",
        "        array_2 = np.random.randint(low=amin,high=amax,size=(size, size),dtype=int)\n",
        "\n",
        "    #Contagem de tempo\n",
        "\n",
        "    #Contagem de Naive Matrix\n",
        "        print(\"Testando algoritmo Naive tamanho {}\".format(size))\n",
        "        start_time = 0\n",
        "        start_time = time.time()\n",
        "        result = naive_matrix(array_1,array_2)\n",
        "        naive_duration = time.time()-start_time\n",
        "    \n",
        "\n",
        "    # Contagem do tempo de Strassen\n",
        "        print(\"Testando algoritmo Strassen tamanho {}\".format(size))\n",
        "        start_time = 0\n",
        "        start_time = time.time()\n",
        "        result = strassen(array_1,array_2)\n",
        "        strassen_duration = time.time()-start_time\n",
        "    \n",
        "\n",
        "        tmp = pd.Series([\n",
        "            size,\n",
        "            naive_duration,\n",
        "            strassen_duration,           \n",
        "        ], index=['Array_size','Naive_time','Strassen_time'])\n",
        "        logManual = logManual.append(tmp,ignore_index=True)\n",
        "        #logManual.to_csv('teste-parametro-manual.csv',index=False)\n",
        "\n",
        "    # O retorno da função já é gráfico plotando o dataframe ordenado \n",
        "    return logManual.sort_values(by=['Array_size']).plot(x='Array_size',title='Time Complexity Comparison',figsize=(10,10),fontsize=15)"
      ],
      "execution_count": 63,
      "outputs": []
    },
    {
      "cell_type": "markdown",
      "metadata": {
        "id": "61uRTuFkisHX"
      },
      "source": [
        "### TESTE ABAIXO:\n",
        "\n",
        "Execute a função \n",
        "\n",
        "`test_manual(k_max, number_matrices, amin, amax)`\n",
        "\n",
        "Onde: \n",
        "\n",
        "kmax = Expoente de 2 máximo para o tamanho de n. **DEVE SER MAIOR QUE 5**\n",
        "\n",
        "number_matrices = Número de pares de matrizes gerados\n",
        "\n",
        "amin = Número mínimo do intervalo de matrizes\n",
        "\n",
        "amax = Número máximo do intervalo de matrizes\n"
      ]
    },
    {
      "cell_type": "code",
      "metadata": {
        "colab": {
          "base_uri": "https://localhost:8080/",
          "height": 1000
        },
        "id": "KPShAIk9iPSu",
        "outputId": "c19e4c4f-fc25-4fc0-9cc7-63cc55fbd297"
      },
      "source": [
        "#Exemplo:\n",
        "\n",
        "test_manual(8,7,100,120)"
      ],
      "execution_count": 65,
      "outputs": [
        {
          "output_type": "stream",
          "text": [
            "[32, 64, 128]\n",
            "Testando algoritmo Naive tamanho 32\n",
            "Testando algoritmo Strassen tamanho 32\n",
            "Testando algoritmo Naive tamanho 64\n",
            "Testando algoritmo Strassen tamanho 64\n",
            "Testando algoritmo Naive tamanho 128\n",
            "Testando algoritmo Strassen tamanho 128\n",
            "Testando algoritmo Naive tamanho 32\n",
            "Testando algoritmo Strassen tamanho 32\n",
            "Testando algoritmo Naive tamanho 64\n",
            "Testando algoritmo Strassen tamanho 64\n",
            "Testando algoritmo Naive tamanho 128\n",
            "Testando algoritmo Strassen tamanho 128\n",
            "Testando algoritmo Naive tamanho 32\n",
            "Testando algoritmo Strassen tamanho 32\n",
            "Testando algoritmo Naive tamanho 64\n",
            "Testando algoritmo Strassen tamanho 64\n",
            "Testando algoritmo Naive tamanho 128\n",
            "Testando algoritmo Strassen tamanho 128\n",
            "Testando algoritmo Naive tamanho 32\n",
            "Testando algoritmo Strassen tamanho 32\n",
            "Testando algoritmo Naive tamanho 64\n",
            "Testando algoritmo Strassen tamanho 64\n",
            "Testando algoritmo Naive tamanho 128\n",
            "Testando algoritmo Strassen tamanho 128\n",
            "Testando algoritmo Naive tamanho 32\n",
            "Testando algoritmo Strassen tamanho 32\n",
            "Testando algoritmo Naive tamanho 64\n",
            "Testando algoritmo Strassen tamanho 64\n",
            "Testando algoritmo Naive tamanho 128\n",
            "Testando algoritmo Strassen tamanho 128\n",
            "Testando algoritmo Naive tamanho 32\n",
            "Testando algoritmo Strassen tamanho 32\n",
            "Testando algoritmo Naive tamanho 64\n",
            "Testando algoritmo Strassen tamanho 64\n",
            "Testando algoritmo Naive tamanho 128\n",
            "Testando algoritmo Strassen tamanho 128\n"
          ],
          "name": "stdout"
        },
        {
          "output_type": "execute_result",
          "data": {
            "text/plain": [
              "<matplotlib.axes._subplots.AxesSubplot at 0x7f9f35c11dd0>"
            ]
          },
          "metadata": {
            "tags": []
          },
          "execution_count": 65
        },
        {
          "output_type": "display_data",
          "data": {
            "image/png": "[encoded data removed]",
            "text/plain": [
              "<Figure size 720x720 with 1 Axes>"
            ]
          },
          "metadata": {
            "tags": [],
            "needs_background": "light"
          }
        }
      ]
    },
    {
      "cell_type": "code",
      "metadata": {
        "id": "Io8X2nDrikP7"
      },
      "source": [
        ""
      ],
      "execution_count": null,
      "outputs": []
    },
    {
      "cell_type": "markdown",
      "metadata": {
        "id": "6YSLwMURkawB"
      },
      "source": [
        "_____________________________________________________________\n",
        "### Para teste com outro arquivo de entrada\n",
        "\n",
        "Use esta seção para introduzir outro arquivo de entrada.\n",
        "\n",
        "Basta fazer o upload do arquivo no menu à esquerda. \n",
        "\n",
        "Agora execute a função abaixo usando o nome do arquivo entre aspas como parâmetro."
      ]
    },
    {
      "cell_type": "code",
      "metadata": {
        "id": "c35C68fFkqLn"
      },
      "source": [
        "def read_test_input(input):\n",
        "  # Se quiser alterar o arquivo de entrada, usar a última seção do notebook\n",
        "  X = open(input, \"r\")\n",
        "  kmax = int(X.readline())\n",
        "  r = int(X.readline())\n",
        "  amin_max = str(X.readline())\n",
        "  return kmax, r, amin_max"
      ],
      "execution_count": 67,
      "outputs": []
    },
    {
      "cell_type": "code",
      "metadata": {
        "colab": {
          "base_uri": "https://localhost:8080/"
        },
        "id": "ws9q6p5Uqsrq",
        "outputId": "1dd8758b-41d2-420d-b266-340a93441b34"
      },
      "source": [
        "read_test_input(## Input aqui)\n",
        "\n",
        "# Trocar o input na célula abaixo!"
      ],
      "execution_count": 68,
      "outputs": [
        {
          "output_type": "execute_result",
          "data": {
            "text/plain": [
              "(6, 6, '150 250')"
            ]
          },
          "metadata": {
            "tags": []
          },
          "execution_count": 68
        }
      ]
    },
    {
      "cell_type": "markdown",
      "metadata": {
        "id": "NykpVJAUn0m-"
      },
      "source": [
        "Função de teste dos algoritmos\n",
        "\n"
      ]
    },
    {
      "cell_type": "code",
      "metadata": {
        "id": "6Kg42YnEnzhh"
      },
      "source": [
        "def test_arquivo():\n",
        "# TROCAR AS FUNÇÕES NAS LINHAS INDICADAS COM UM $\n",
        "\n",
        "    # Tamanho KMax deve ser potência de 2 || Matrizes terão tamanho de 2**5 a 2**kmaxx\n",
        "    \n",
        "#$\n",
        "    array_size = [2 ** i for i in range(5,read_test_input(###)[0])] #read_input(input)[0] = kmax\n",
        "\n",
        "\n",
        "    # Log é o dataframe com os dados gerais dos testes.\n",
        "    # A linha abaixo inicializa o df vazio\n",
        "    logArquivo = pd.DataFrame(index=[], columns =[])\n",
        "#$\n",
        "    amin = int(read_test_input(###)[2][:3]) \n",
        "#$\n",
        "    amax = int(read_test_input(###)[2][3:])\n",
        "#$\n",
        "    number_matrices = read_test_input(###)[1]\n",
        "    \n",
        "    print(array_size)\n",
        "\n",
        "    #Iniciando matrizes no número indicado no input com tamanho de 2**5 a 2**kmax\n",
        "    for matrix in range(1,number_matrices):\n",
        "      for size in array_size:\n",
        "        array_1 = np.random.randint(low=amin,high=amax,size=(size,size),dtype=int)\n",
        "        array_2 = np.random.randint(low=amin,high=amax,size=(size, size),dtype=int)\n",
        "\n",
        "    #Contagem de tempo\n",
        "\n",
        "    #Contagem de Naive Matrix\n",
        "        print(\"Testando algoritmo Naive tamanho {}\".format(size))\n",
        "        start_time = 0\n",
        "        start_time = time.time()\n",
        "        result = naive_matrix(array_1,array_2)\n",
        "        naive_duration = time.time()-start_time\n",
        "    \n",
        "\n",
        "    # Contagem do tempo de Strassen\n",
        "        print(\"Testando algoritmo Strassen tamanho {}\".format(size))\n",
        "        start_time = 0\n",
        "        start_time = time.time()\n",
        "        result = strassen(array_1,array_2)\n",
        "        strassen_duration = time.time()-start_time\n",
        "    \n",
        "\n",
        "        tmp = pd.Series([\n",
        "            size,\n",
        "            naive_duration,\n",
        "            strassen_duration,           \n",
        "        ], index=['Array_size','Naive_time','Strassen_time'])\n",
        "        logArquivo = logManual.append(tmp,ignore_index=True)\n",
        "        #logManual.to_csv('teste-parametro-manual.csv',index=False)\n",
        "\n",
        "    # O retorno da função já é gráfico plotando o dataframe ordenado \n",
        "    return logArquivo.sort_values(by=['Array_size']).plot(x='Array_size',title='Time Complexity Comparison',figsize=(10,10),fontsize=15)"
      ],
      "execution_count": null,
      "outputs": []
    },
    {
      "cell_type": "markdown",
      "metadata": {
        "id": "ZPHB6gGwodx1"
      },
      "source": [
        "#### TESTE ABAIXO\n",
        "\n",
        "(i) Faça o upload do arquivo\n",
        "\n",
        "(ii) Altere a função acima nas linhas indicadas inserindo o nome do arquivo de entrada como parâmetro das funções `read_test_input(###)` no lugar dos \"###\"\n",
        "\n",
        "(iii) Execute a função\n",
        "\n",
        "`test_arquivo `\n"
      ]
    },
    {
      "cell_type": "code",
      "metadata": {
        "id": "rJR9ZFW3qlBV"
      },
      "source": [
        ""
      ],
      "execution_count": null,
      "outputs": []
    }
  ]
}